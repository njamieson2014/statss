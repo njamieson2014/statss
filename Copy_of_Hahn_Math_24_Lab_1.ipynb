{
  "nbformat": 4,
  "nbformat_minor": 0,
  "metadata": {
    "colab": {
      "provenance": [],
      "include_colab_link": true
    },
    "kernelspec": {
      "name": "python3",
      "display_name": "Python 3"
    },
    "language_info": {
      "name": "python"
    }
  },
  "cells": [
    {
      "cell_type": "markdown",
      "metadata": {
        "id": "view-in-github",
        "colab_type": "text"
      },
      "source": [
        "<a href=\"https://colab.research.google.com/github/njamieson2014/statss/blob/main/Copy_of_Hahn_Math_24_Lab_1.ipynb\" target=\"_parent\"><img src=\"https://colab.research.google.com/assets/colab-badge.svg\" alt=\"Open In Colab\"/></a>"
      ]
    },
    {
      "cell_type": "markdown",
      "source": [
        "## Python Basics"
      ],
      "metadata": {
        "id": "0Lv7wtZ-iTC4"
      }
    },
    {
      "cell_type": "markdown",
      "source": [
        "### Calculator"
      ],
      "metadata": {
        "id": "eFNi_s3RiWwc"
      }
    },
    {
      "cell_type": "code",
      "source": [
        "# Comments with hashtag, python ignores this"
      ],
      "metadata": {
        "id": "5jk_lQhz0T87"
      },
      "execution_count": null,
      "outputs": []
    },
    {
      "cell_type": "code",
      "source": [
        "30.34321 + 9.12313 - 3.5567 #addition and subtraction"
      ],
      "metadata": {
        "id": "Sk8TLU3biY0J",
        "colab": {
          "base_uri": "https://localhost:8080/"
        },
        "outputId": "d9bfd52f-d3a7-459e-c326-400adec72527"
      },
      "execution_count": null,
      "outputs": [
        {
          "output_type": "execute_result",
          "data": {
            "text/plain": [
              "35.90964"
            ]
          },
          "metadata": {},
          "execution_count": 1
        }
      ]
    },
    {
      "cell_type": "code",
      "source": [
        "2*2 #multiplication"
      ],
      "metadata": {
        "id": "R-u5seQsh_RF",
        "colab": {
          "base_uri": "https://localhost:8080/"
        },
        "outputId": "f4449a34-0377-4711-9568-ccf02a0fdfea"
      },
      "execution_count": null,
      "outputs": [
        {
          "output_type": "execute_result",
          "data": {
            "text/plain": [
              "4"
            ]
          },
          "metadata": {},
          "execution_count": 2
        }
      ]
    },
    {
      "cell_type": "code",
      "source": [
        "2**8 #exponentiation"
      ],
      "metadata": {
        "id": "OhzaZtPch_Yb",
        "colab": {
          "base_uri": "https://localhost:8080/"
        },
        "outputId": "752847e3-4d29-48e0-e24e-6b942df9d6d6"
      },
      "execution_count": null,
      "outputs": [
        {
          "output_type": "execute_result",
          "data": {
            "text/plain": [
              "256"
            ]
          },
          "metadata": {},
          "execution_count": 3
        }
      ]
    },
    {
      "cell_type": "code",
      "source": [
        "2**123"
      ],
      "metadata": {
        "id": "yt6iRMB8h_a2",
        "colab": {
          "base_uri": "https://localhost:8080/"
        },
        "outputId": "d6adee39-7bf6-4e02-fc45-dc8463d36886"
      },
      "execution_count": null,
      "outputs": [
        {
          "output_type": "execute_result",
          "data": {
            "text/plain": [
              "10633823966279326983230456482242756608"
            ]
          },
          "metadata": {},
          "execution_count": 4
        }
      ]
    },
    {
      "cell_type": "code",
      "source": [
        "2**12345 #computer can calculate extremely large numbers"
      ],
      "metadata": {
        "id": "Ej6lPOmHh_dh",
        "collapsed": true,
        "colab": {
          "base_uri": "https://localhost:8080/"
        },
        "outputId": "3ade8fa2-6ab0-4614-f0a8-bba3dfa1054c"
      },
      "execution_count": null,
      "outputs": [
        {
          "output_type": "execute_result",
          "data": {
            "text/plain": [
              "164171010688258216356020741663906501410127235530735881272116103087925094171390144280159034536439457734870419127140401667195510331085657185332721089236401193044493457116299768844344303479235489462436380672117015123283299131391904179287678259173308536738761981139958654880852234908448338817289014166774169869251339379828599748492918775437864739032217778051333882990074116246281269364933724892342134504702491040016637557429810893780765197418589477584716543480995722533317862352141459217781316266211186486157019262080414077670264642736018426998113523445732680856144329876972273300703392584997729207197971083945700345494092400147186997307012069454068489589035676979448169848060836924945824197706493306108258511936030341393221586423523264452449403781993352421885094664052270795527632721896121424813173522474674395886155092203404036730748474781710715745446135468098139831824083259647919175273503681561172684624283384438504776503000432241604550454374116320822227191911322123484085063926350606342197146407841178028071147192533942517270553513988142925976090769695456221159699052583533011331652079347093098173086975483539274464023357456484465482927479569437320368592222760278170306076733438801098370797675711274671054970711442158930561684343135774118741594506702833147396758825015850042983343690345185995956235143825771620543546030664562647854656431302644574119873820215595718618624485232422006575550007068883734241454686368856734496265385908809403972494685137741122866896719678053937285818409751670320140501843039224040735870096889596273419106389103662095318937990625980136711988237421962315266686856089505981438440850638067589321141759499017023839596858455548192000140085142294166987063499024792681334843159790936321351919859758669569200541507612099780909705198902176026219872201715422096090343686272984351441594569506778041062663266799342793856313801540959815845788584759033248828248561586450271172777240971795656082001848115815260930521663167480173886064019118572778281516735157779555888167787064432558595410843987446497881666288423233170060413025924629950477303342180149398926073618582715358742250388958231281694757980523791263699450732952325727664209947786063982561775327638504516918570101319391698412388607603742484414748268389669129118026878969735782286841116842656410574647607524418900720328045377993386279808768990376289424757351052369393977137871998119168898493037938756635621557623138404459266598837784229325799838782026060481496865561757031839002257091802876949248392744175669112242088439883248336310597001257385980776961529351198877747193531054956881808332177946751404038228718567911769630971553915410012677600002457982207465176670752102117002773980548089696530972476439694599881281812973217265853884727906535479745854085338851105144585481994156206497436745899944877732531412541279014300324594890623941145509856940982863769834430048120562966797907114102689879364945689860493474954538422367719507882513166051007352994068319251450666676648368200564329382998758875760414259654004977261309988267319806354856051784553990936610634733375984159028722378614984450255386315585631994503350002142910493190254825610707400589976364985748467955131077971641882672895854571236368282811336220769174784720113331269084746524204124263475054112841630933586166195036115696469686075600480420563557567616835633252622327172811002146392754445051182169805284630259703542633955126179520113059629914229833688535925729676778028406897316106101038469119090984567152591962365415039646394591503830797626339246986057077758611413664914168745375266786298141171496573941614387744125843685677063619782918759823106021054037757857761587472240835040580447360544029064930412569943169729238102162312218687930203068055400275795180972382856696655279408212344832"
            ]
          },
          "metadata": {},
          "execution_count": 5
        }
      ]
    },
    {
      "cell_type": "code",
      "source": [
        "import sys #imports the sys module which has different functions\n",
        "sys.set_int_max_str_digits(650) #limits the amount of numbers displayed per string\n",
        "2**45"
      ],
      "metadata": {
        "id": "0_Tjv73WXg67",
        "colab": {
          "base_uri": "https://localhost:8080/"
        },
        "outputId": "b9ab5917-4a84-4739-bf0b-02e32d2cf470"
      },
      "execution_count": null,
      "outputs": [
        {
          "output_type": "execute_result",
          "data": {
            "text/plain": [
              "35184372088832"
            ]
          },
          "metadata": {},
          "execution_count": 17
        }
      ]
    },
    {
      "cell_type": "code",
      "source": [
        "8/4 #division"
      ],
      "metadata": {
        "id": "HWnnfszJzi1N",
        "colab": {
          "base_uri": "https://localhost:8080/"
        },
        "outputId": "1cef2a02-9d94-492b-8e62-82475fa53416"
      },
      "execution_count": null,
      "outputs": [
        {
          "output_type": "execute_result",
          "data": {
            "text/plain": [
              "2.0"
            ]
          },
          "metadata": {},
          "execution_count": 7
        }
      ]
    },
    {
      "cell_type": "code",
      "source": [
        "11//4 #divides, and rounds down to the nearest whole number"
      ],
      "metadata": {
        "id": "NzDS65ewzkDe",
        "colab": {
          "base_uri": "https://localhost:8080/"
        },
        "outputId": "1aa5d759-3a34-4960-e804-5ed20d416b6c"
      },
      "execution_count": null,
      "outputs": [
        {
          "output_type": "execute_result",
          "data": {
            "text/plain": [
              "2"
            ]
          },
          "metadata": {},
          "execution_count": 20
        }
      ]
    },
    {
      "cell_type": "code",
      "source": [
        "8%12 #divides the numbers, then outputs the remainder"
      ],
      "metadata": {
        "id": "MwcyFBu4zlgE",
        "colab": {
          "base_uri": "https://localhost:8080/"
        },
        "outputId": "d7289fc7-c582-4b78-d729-08834a3036fd"
      },
      "execution_count": null,
      "outputs": [
        {
          "output_type": "execute_result",
          "data": {
            "text/plain": [
              "8"
            ]
          },
          "metadata": {},
          "execution_count": 9
        }
      ]
    },
    {
      "cell_type": "code",
      "source": [
        "13%12"
      ],
      "metadata": {
        "id": "KGMyjnL_zm-8",
        "colab": {
          "base_uri": "https://localhost:8080/"
        },
        "outputId": "c76345a5-e8a9-4520-8d61-e5aae0bb814b"
      },
      "execution_count": null,
      "outputs": [
        {
          "output_type": "execute_result",
          "data": {
            "text/plain": [
              "1"
            ]
          },
          "metadata": {},
          "execution_count": 10
        }
      ]
    },
    {
      "cell_type": "code",
      "source": [
        "22%12"
      ],
      "metadata": {
        "id": "YSUzBZWEzrvu",
        "colab": {
          "base_uri": "https://localhost:8080/"
        },
        "outputId": "e060efdf-0f7b-4f3e-e73b-e5634637c2a8"
      },
      "execution_count": null,
      "outputs": [
        {
          "output_type": "execute_result",
          "data": {
            "text/plain": [
              "10"
            ]
          },
          "metadata": {},
          "execution_count": 11
        }
      ]
    },
    {
      "cell_type": "code",
      "source": [
        "24%12"
      ],
      "metadata": {
        "id": "abx0hn9jz-pB",
        "colab": {
          "base_uri": "https://localhost:8080/"
        },
        "outputId": "09a3b501-e70b-41c2-b6b6-60dcf4eb7164"
      },
      "execution_count": null,
      "outputs": [
        {
          "output_type": "execute_result",
          "data": {
            "text/plain": [
              "0"
            ]
          },
          "metadata": {},
          "execution_count": 12
        }
      ]
    },
    {
      "cell_type": "markdown",
      "source": [
        "### Variables"
      ],
      "metadata": {
        "id": "C8SDfhEloyKH"
      }
    },
    {
      "cell_type": "code",
      "source": [
        "apples = 5 #words or symbols can be created and be treated as variable with stored values by entering name = (a number)"
      ],
      "metadata": {
        "id": "LMw0vkqhh_iu"
      },
      "execution_count": null,
      "outputs": []
    },
    {
      "cell_type": "code",
      "source": [
        "oranges = 8"
      ],
      "metadata": {
        "id": "RWMUvAJhh_lA"
      },
      "execution_count": null,
      "outputs": []
    },
    {
      "cell_type": "code",
      "source": [
        "total = apples + oranges #variables can be set to other variables and operated on just like numbers"
      ],
      "metadata": {
        "id": "JFF0Q3Bhh_na"
      },
      "execution_count": null,
      "outputs": []
    },
    {
      "cell_type": "code",
      "source": [
        "total #displays the value of a variable"
      ],
      "metadata": {
        "id": "fDX5SYA8h_qC",
        "colab": {
          "base_uri": "https://localhost:8080/"
        },
        "outputId": "4b65a47b-e22d-4b70-cad0-54c32290bc6a"
      },
      "execution_count": null,
      "outputs": [
        {
          "output_type": "execute_result",
          "data": {
            "text/plain": [
              "13"
            ]
          },
          "metadata": {},
          "execution_count": 31
        }
      ]
    },
    {
      "cell_type": "code",
      "source": [
        "apples**2"
      ],
      "metadata": {
        "id": "v3LbjRnEh_sU",
        "colab": {
          "base_uri": "https://localhost:8080/"
        },
        "outputId": "9e59627e-b815-4e23-c649-7093a1315232"
      },
      "execution_count": null,
      "outputs": [
        {
          "output_type": "execute_result",
          "data": {
            "text/plain": [
              "25"
            ]
          },
          "metadata": {},
          "execution_count": 34
        }
      ]
    },
    {
      "cell_type": "code",
      "source": [
        "cost_per_apple = 0.25"
      ],
      "metadata": {
        "id": "PyMaiewtiRRu"
      },
      "execution_count": null,
      "outputs": []
    },
    {
      "cell_type": "code",
      "source": [
        "total_apple_costs = cost_per_apple * apples"
      ],
      "metadata": {
        "id": "ssPAIuNCiRT6"
      },
      "execution_count": null,
      "outputs": []
    },
    {
      "cell_type": "code",
      "source": [
        "total_apple_costs"
      ],
      "metadata": {
        "id": "NRZizjgRiRWB",
        "colab": {
          "base_uri": "https://localhost:8080/"
        },
        "outputId": "bdaadb50-9c25-4b04-d086-a9d6ee471b0e"
      },
      "execution_count": null,
      "outputs": [
        {
          "output_type": "execute_result",
          "data": {
            "text/plain": [
              "1.25"
            ]
          },
          "metadata": {},
          "execution_count": 29
        }
      ]
    },
    {
      "cell_type": "markdown",
      "source": [
        "### Vectors"
      ],
      "metadata": {
        "id": "NrZeHmA2pF7-"
      }
    },
    {
      "cell_type": "code",
      "source": [
        "import numpy as np #imports the numpy library which contains many mathematical functions and operators. as np lets us shorten the name to \"np\" when typing our code\n",
        "import matplotlib.pyplot as plt #imports the pyplot module from matplotlib library, containing many graphical functions, and provides a matlab like interface for creating plots. abbreviates the library command to \"plt\""
      ],
      "metadata": {
        "id": "8IZ5UUuriRcT"
      },
      "execution_count": null,
      "outputs": []
    },
    {
      "cell_type": "code",
      "source": [
        "np.arange(5) #creates an array starting from zero, and going up to but not including the number"
      ],
      "metadata": {
        "id": "eVVE2-PXiRe2",
        "colab": {
          "base_uri": "https://localhost:8080/"
        },
        "outputId": "87fed091-ce60-431f-96e9-e0ac855697f9"
      },
      "execution_count": null,
      "outputs": [
        {
          "output_type": "execute_result",
          "data": {
            "text/plain": [
              "array([0, 1, 2, 3, 4])"
            ]
          },
          "metadata": {},
          "execution_count": 38
        }
      ]
    },
    {
      "cell_type": "code",
      "source": [
        "x = np.arange(5) #assigns this created array to the variable x\n"
      ],
      "metadata": {
        "id": "lxDda9rPiRgr"
      },
      "execution_count": null,
      "outputs": []
    },
    {
      "cell_type": "code",
      "source": [
        "x"
      ],
      "metadata": {
        "id": "WLNa80A1iRiv",
        "colab": {
          "base_uri": "https://localhost:8080/"
        },
        "outputId": "580e81f9-2d4e-4867-8ad2-605b2dbfc92c"
      },
      "execution_count": null,
      "outputs": [
        {
          "output_type": "execute_result",
          "data": {
            "text/plain": [
              "array([0, 1, 2, 3, 4])"
            ]
          },
          "metadata": {},
          "execution_count": 40
        }
      ]
    },
    {
      "cell_type": "code",
      "source": [
        "y = 3 * x + 5 #creates variable y, which is a function of x and some constants. y becomes an array as well"
      ],
      "metadata": {
        "id": "wvBymvO6iRk9"
      },
      "execution_count": null,
      "outputs": []
    },
    {
      "cell_type": "code",
      "source": [
        "y"
      ],
      "metadata": {
        "id": "R0caJJvuiRnD",
        "colab": {
          "base_uri": "https://localhost:8080/"
        },
        "outputId": "e635fcc1-9124-4d9c-d808-a7a9e8e59a6f"
      },
      "execution_count": null,
      "outputs": [
        {
          "output_type": "execute_result",
          "data": {
            "text/plain": [
              "array([ 5,  8, 11, 14, 17])"
            ]
          },
          "metadata": {},
          "execution_count": 42
        }
      ]
    },
    {
      "cell_type": "code",
      "source": [
        "# x = np.array([133,24,333,4,5,6])\n",
        "# y = np.array([11,22,33,44,55,66])"
      ],
      "metadata": {
        "id": "BfLYoPWpvAft"
      },
      "execution_count": null,
      "outputs": []
    },
    {
      "cell_type": "code",
      "source": [
        "x,y #displays both variables, as arrays, one after the other"
      ],
      "metadata": {
        "id": "_mgPXYE-HS0z",
        "colab": {
          "base_uri": "https://localhost:8080/"
        },
        "outputId": "ae361e63-16d6-464a-cdc9-55184fcd6458"
      },
      "execution_count": null,
      "outputs": [
        {
          "output_type": "execute_result",
          "data": {
            "text/plain": [
              "(array([0, 1, 2, 3, 4]), array([ 5,  8, 11, 14, 17]))"
            ]
          },
          "metadata": {},
          "execution_count": 43
        }
      ]
    },
    {
      "cell_type": "markdown",
      "source": [
        "### Plotting"
      ],
      "metadata": {
        "id": "SSehamg7pVQ-"
      }
    },
    {
      "cell_type": "code",
      "source": [
        "plt.plot(x,y) #plots x and y on a table"
      ],
      "metadata": {
        "id": "lv2MktRkvAru",
        "colab": {
          "base_uri": "https://localhost:8080/",
          "height": 448
        },
        "outputId": "6e20c3d1-164b-4281-eced-36fe49f88241"
      },
      "execution_count": null,
      "outputs": [
        {
          "output_type": "execute_result",
          "data": {
            "text/plain": [
              "[<matplotlib.lines.Line2D at 0x7e135e0a2e60>]"
            ]
          },
          "metadata": {},
          "execution_count": 44
        },
        {
          "output_type": "display_data",
          "data": {
            "text/plain": [
              "<Figure size 640x480 with 1 Axes>"
            ],
            "image/png": "[encoded data removed]"
          },
          "metadata": {}
        }
      ]
    },
    {
      "cell_type": "code",
      "source": [
        "plt.plot(x,y,'.') #plots x and y on a table. \".\" draws the plot as points not connected"
      ],
      "metadata": {
        "id": "q_SC501IvNyQ",
        "colab": {
          "base_uri": "https://localhost:8080/",
          "height": 448
        },
        "outputId": "f33d148f-ab2b-4ced-f63e-34667f7accde"
      },
      "execution_count": null,
      "outputs": [
        {
          "output_type": "execute_result",
          "data": {
            "text/plain": [
              "[<matplotlib.lines.Line2D at 0x7e135de5e140>]"
            ]
          },
          "metadata": {},
          "execution_count": 45
        },
        {
          "output_type": "display_data",
          "data": {
            "text/plain": [
              "<Figure size 640x480 with 1 Axes>"
            ],
            "image/png": "[encoded data removed]"
          },
          "metadata": {}
        }
      ]
    },
    {
      "cell_type": "code",
      "source": [
        "plt.plot(x,y,'r.') #can change the color"
      ],
      "metadata": {
        "id": "Mp3pHMdSvPcQ",
        "colab": {
          "base_uri": "https://localhost:8080/",
          "height": 448
        },
        "outputId": "1f46becc-ead6-4d8c-948a-d65cddacc1b7"
      },
      "execution_count": null,
      "outputs": [
        {
          "output_type": "execute_result",
          "data": {
            "text/plain": [
              "[<matplotlib.lines.Line2D at 0x7e135def1030>]"
            ]
          },
          "metadata": {},
          "execution_count": 46
        },
        {
          "output_type": "display_data",
          "data": {
            "text/plain": [
              "<Figure size 640x480 with 1 Axes>"
            ],
            "image/png": "[encoded data removed]"
          },
          "metadata": {}
        }
      ]
    },
    {
      "cell_type": "code",
      "source": [
        "plt.plot(x,y,'b--') #\"--\" makes it a dashed light"
      ],
      "metadata": {
        "id": "2_sDDZyhvREK",
        "colab": {
          "base_uri": "https://localhost:8080/",
          "height": 448
        },
        "outputId": "262a925d-f0b5-4c05-efff-4015042ae2a1"
      },
      "execution_count": null,
      "outputs": [
        {
          "output_type": "execute_result",
          "data": {
            "text/plain": [
              "[<matplotlib.lines.Line2D at 0x7e135dd80460>]"
            ]
          },
          "metadata": {},
          "execution_count": 47
        },
        {
          "output_type": "display_data",
          "data": {
            "text/plain": [
              "<Figure size 640x480 with 1 Axes>"
            ],
            "image/png": "[encoded data removed]"
          },
          "metadata": {}
        }
      ]
    },
    {
      "cell_type": "code",
      "source": [
        "import matplotlib.pyplot as plt"
      ],
      "metadata": {
        "id": "5xxvUltOiRrY"
      },
      "execution_count": null,
      "outputs": []
    },
    {
      "cell_type": "code",
      "source": [
        "plt.plot(x,y)"
      ],
      "metadata": {
        "id": "7GqRu33ziRx6",
        "colab": {
          "base_uri": "https://localhost:8080/",
          "height": 448
        },
        "outputId": "9a52ded4-4e74-4e77-a043-2acab98e9a89"
      },
      "execution_count": null,
      "outputs": [
        {
          "output_type": "execute_result",
          "data": {
            "text/plain": [
              "[<matplotlib.lines.Line2D at 0x7e135dde6f20>]"
            ]
          },
          "metadata": {},
          "execution_count": 49
        },
        {
          "output_type": "display_data",
          "data": {
            "text/plain": [
              "<Figure size 640x480 with 1 Axes>"
            ],
            "image/png": "[encoded data removed]"
          },
          "metadata": {}
        }
      ]
    },
    {
      "cell_type": "code",
      "source": [
        "x = np.linspace(0,5,10) #makes a linear array, from 0 to 5, with 10 evenly spaced numbers"
      ],
      "metadata": {
        "id": "W9d-C2GkpavQ"
      },
      "execution_count": null,
      "outputs": []
    },
    {
      "cell_type": "code",
      "source": [
        "x"
      ],
      "metadata": {
        "id": "xm4FuiXapaxM",
        "colab": {
          "base_uri": "https://localhost:8080/"
        },
        "outputId": "2ac64b8b-a513-4c88-9fb9-ffa3c4a6375a"
      },
      "execution_count": null,
      "outputs": [
        {
          "output_type": "execute_result",
          "data": {
            "text/plain": [
              "array([0.        , 0.55555556, 1.11111111, 1.66666667, 2.22222222,\n",
              "       2.77777778, 3.33333333, 3.88888889, 4.44444444, 5.        ])"
            ]
          },
          "metadata": {},
          "execution_count": 51
        }
      ]
    },
    {
      "cell_type": "code",
      "source": [
        "y = x**2"
      ],
      "metadata": {
        "id": "EFVXNTBlpazx"
      },
      "execution_count": null,
      "outputs": []
    },
    {
      "cell_type": "code",
      "source": [
        "plt.plot(x,y)"
      ],
      "metadata": {
        "id": "zeDSPzcypa3l",
        "colab": {
          "base_uri": "https://localhost:8080/",
          "height": 448
        },
        "outputId": "eabf1b7f-f0cf-4eb9-eb0d-e1cb3c165889"
      },
      "execution_count": null,
      "outputs": [
        {
          "output_type": "execute_result",
          "data": {
            "text/plain": [
              "[<matplotlib.lines.Line2D at 0x7e135dc9de10>]"
            ]
          },
          "metadata": {},
          "execution_count": 53
        },
        {
          "output_type": "display_data",
          "data": {
            "text/plain": [
              "<Figure size 640x480 with 1 Axes>"
            ],
            "image/png": "[encoded data removed]"
          },
          "metadata": {}
        }
      ]
    },
    {
      "cell_type": "code",
      "source": [
        "plt.plot(x,y)\n",
        "plt.title(\"New Graph of x**2\"); #title\n",
        "plt.xlabel(\"x\"); #x and y axis label\n",
        "plt.ylabel(\"y\");"
      ],
      "metadata": {
        "id": "Ya-NbJXBpa79",
        "colab": {
          "base_uri": "https://localhost:8080/",
          "height": 472
        },
        "outputId": "48a3544a-e4c9-4a64-dc16-cdf0313dd3c3"
      },
      "execution_count": null,
      "outputs": [
        {
          "output_type": "display_data",
          "data": {
            "text/plain": [
              "<Figure size 640x480 with 1 Axes>"
            ],
            "image/png": "[encoded data removed]"
          },
          "metadata": {}
        }
      ]
    },
    {
      "cell_type": "code",
      "source": [
        "plt.plot(x,y,label=\"x squared\")\n",
        "plt.title(\"Graph of x**2\");\n",
        "plt.xlabel(\"x\");\n",
        "plt.ylabel(\"y\");\n",
        "plt.legend() #adds a legend to differentiate if multiple plots are graphed together"
      ],
      "metadata": {
        "id": "XaKFm2-1iR0D",
        "colab": {
          "base_uri": "https://localhost:8080/",
          "height": 490
        },
        "outputId": "00945d77-d09b-43f3-a0ac-aaf65228b8aa"
      },
      "execution_count": null,
      "outputs": [
        {
          "output_type": "execute_result",
          "data": {
            "text/plain": [
              "<matplotlib.legend.Legend at 0x7e135dcebf70>"
            ]
          },
          "metadata": {},
          "execution_count": 55
        },
        {
          "output_type": "display_data",
          "data": {
            "text/plain": [
              "<Figure size 640x480 with 1 Axes>"
            ],
            "image/png": "[encoded data removed]"
          },
          "metadata": {}
        }
      ]
    },
    {
      "cell_type": "code",
      "source": [
        "x = np.linspace(0, 2, 100)\n",
        "\n",
        "plt.plot(x, x, label='linear')\n",
        "plt.plot(x, x**2, label='quadratic')\n",
        "plt.plot(x, x**3, label='cubic')\n",
        "\n",
        "plt.xlabel('x label')\n",
        "plt.ylabel('y label')\n",
        "\n",
        "plt.title(\"Simple Plot\")\n",
        "\n",
        "plt.legend()"
      ],
      "metadata": {
        "id": "QySsAtYkCZ-M",
        "colab": {
          "base_uri": "https://localhost:8080/",
          "height": 490
        },
        "outputId": "8441cce7-04ed-4a72-82a8-034c6938149d"
      },
      "execution_count": null,
      "outputs": [
        {
          "output_type": "execute_result",
          "data": {
            "text/plain": [
              "<matplotlib.legend.Legend at 0x7e135de5fb50>"
            ]
          },
          "metadata": {},
          "execution_count": 56
        },
        {
          "output_type": "display_data",
          "data": {
            "text/plain": [
              "<Figure size 640x480 with 1 Axes>"
            ],
            "image/png": "[encoded data removed]"
          },
          "metadata": {}
        }
      ]
    },
    {
      "cell_type": "code",
      "source": [
        "labels = 'Frogs', 'Dogs', 'Cats', 'Birds' #assigns a varriable whose value is an array of words\n",
        "sizes = [15, 30, 40, 15] #creates a variable with an array of numbers\n",
        "explode = (0, 0.2, 0, 0)  # only \"explode\" the 2nd slice (i.e. 'Dogs') makes ones slice pop out\n",
        "\n",
        "fig1, ax1 = plt.subplots() #creates a new figure(fig1) with a subplot (ax1)\n",
        "ax1.pie(sizes, explode=explode, labels=labels, autopct='%1.1f%%', shadow=True, startangle=90)  #creates a pie chart on axis 1 with different inputs: values of \"sizes\", labels of \"labels\", format of displayed numbers, shadow, and rotation angle\n",
        "ax1.axis('equal')  # Equal aspect ratio ensures that pie is drawn as a circle.\n",
        "plt.show() #show the plot"
      ],
      "metadata": {
        "id": "GXCljzCzHK8v",
        "colab": {
          "base_uri": "https://localhost:8080/",
          "height": 406
        },
        "outputId": "68033800-837b-4ca6-c63f-494dc646f1e6"
      },
      "execution_count": null,
      "outputs": [
        {
          "output_type": "display_data",
          "data": {
            "text/plain": [
              "<Figure size 640x480 with 1 Axes>"
            ],
            "image/png": "[encoded data removed]"
          },
          "metadata": {}
        }
      ]
    },
    {
      "cell_type": "code",
      "source": [
        "import numpy as np\n",
        "import matplotlib.pyplot as plt\n",
        "t = np.arange(0.0, 2.0, 0.01) #creates an array from 0 up to 2 with 0.01 increments\n",
        "s = np.sin(2*np.pi*t) #performs the function sin(2pi*t) and saves it as an array s\n",
        "\n",
        "plt.plot(t, s)\n",
        "plt.title(r' $\\alpha_i > \\beta_i$ ', fontsize=20) #r allows us to enter a raw string, allowing us to type \\. '$$' allows us to use LaTeX markup where \\alpha displays the greek letter. _i creates a subscript \"i\"\n",
        "plt.text(1, -0.6, r'$\\sum_{i=0}^\\infty x_i$', fontsize=20) #LaTeX can also display mathmetical functions as text, here plotted on the graph at 1,-0.6\n",
        "plt.text(0.5, 0.6, r'$\\mathcal{A}\\mathrm{sin}(2 \\omega t)$',fontsize=15)\n",
        "plt.xlabel('time (s)')\n",
        "plt.ylabel('volts (mV)')\n",
        "plt.show()"
      ],
      "metadata": {
        "id": "cbJTtIWUHKNn",
        "colab": {
          "base_uri": "https://localhost:8080/",
          "height": 482
        },
        "outputId": "7dec38b5-1f16-469d-b960-f475aee67f3e"
      },
      "execution_count": null,
      "outputs": [
        {
          "output_type": "display_data",
          "data": {
            "text/plain": [
              "<Figure size 640x480 with 1 Axes>"
            ],
            "image/png": "[encoded data removed]"
          },
          "metadata": {}
        }
      ]
    },
    {
      "cell_type": "markdown",
      "source": [
        "Plot the following functions from $x = -10$ to $x = 10$\n",
        "\n",
        "(Hint: np.sin, np.exp)"
      ],
      "metadata": {
        "id": "aBIah-uiGUXZ"
      }
    },
    {
      "cell_type": "markdown",
      "source": [
        "$y = 10x+7$\n",
        "\n",
        "$y = -3x-12$\n",
        "\n",
        "$y=\\sin(x)$\n",
        "\n",
        "$y=e^x$\n",
        "\n",
        "$y=e^{-x^2}$"
      ],
      "metadata": {
        "id": "5HATIyQyGfEj"
      }
    },
    {
      "cell_type": "markdown",
      "source": [
        "Pick out a plot of your choice from [here](https://matplotlib.org/stable/gallery/index.html), copy the code to this notebook, run, and document to the best of your abilities."
      ],
      "metadata": {
        "id": "t0g5nhtbHfta"
      }
    },
    {
      "cell_type": "code",
      "source": [
        "import matplotlib.pyplot as plt\n",
        "import numpy as np\n",
        "\n",
        "from matplotlib.colors import Normalize\n",
        "from matplotlib.markers import MarkerStyle\n",
        "from matplotlib.text import TextPath\n",
        "from matplotlib.transforms import Affine2D\n",
        "\n",
        "SUCCESS_SYMBOLS = [\n",
        "    TextPath((0, 0), \"☹\"),\n",
        "    TextPath((0, 0), \"😒\"),\n",
        "    TextPath((0, 0), \"☺\"),\n",
        "]\n",
        "\n",
        "N = 25\n",
        "skills = np.random.uniform(5, 80, size=N) * 0.1 + 5\n",
        "takeoff_angles = np.random.normal(0, 90, N)\n",
        "thrusts = np.random.uniform(size=N)\n",
        "successful = np.random.randint(0, 3, size=N)\n",
        "positions = np.random.normal(size=(N, 2)) * 5\n",
        "data = zip(skills, takeoff_angles, thrusts, successful, positions)\n",
        "\n",
        "cmap = plt.colormaps[\"jet\"]\n",
        "fig, ax = plt.subplots()\n",
        "fig.suptitle(\"Throwing success\", size=14)\n",
        "for skill, takeoff, thrust, mood, pos in data:\n",
        "    t = Affine2D().scale(skill).rotate_deg(takeoff)\n",
        "    m = MarkerStyle(SUCCESS_SYMBOLS[mood], transform=t)\n",
        "    ax.plot(pos[0], pos[1], marker=m, color=cmap(thrust))\n",
        "\n",
        "\n",
        "plt.show()"
      ],
      "metadata": {
        "id": "2LWMYXMCHg6P",
        "colab": {
          "base_uri": "https://localhost:8080/",
          "height": 478
        },
        "outputId": "4a9b3eb8-4220-4bfe-b307-4348539816a1"
      },
      "execution_count": null,
      "outputs": [
        {
          "output_type": "display_data",
          "data": {
            "text/plain": [
              "<Figure size 640x480 with 1 Axes>"
            ],
            "image/png": "[encoded data removed]"
          },
          "metadata": {}
        }
      ]
    },
    {
      "cell_type": "code",
      "source": [
        "import matplotlib.pyplot as plt\n",
        "import numpy as np\n",
        "\n",
        "x = np.linspace(-10, 10)\n",
        "y1 = 10*x+7\n",
        "y2 = -3*x-12\n",
        "\n",
        "plt.rc('lines', linewidth=2.5)\n",
        "fig, ax = plt.subplots()\n",
        "\n",
        "# Using set_dashes() and set_capstyle() to modify dashing of an existing line.\n",
        "line1, = ax.plot(x, y1, label='10x+7')\n",
        "line1.set_dashes([2, 2, 10, 2])  # 2pt line, 2pt break, 10pt line, 2pt break.\n",
        "line1.set_dash_capstyle('round')\n",
        "\n",
        "# Using plot(..., dashes=..., gapcolor=...) to set the dashing and\n",
        "# alternating color when creating a line.\n",
        "line3, = ax.plot(x, y2, 'g',dashes=[4, 4], gapcolor='tab:pink',\n",
        "                 label='-3x-12')\n",
        "\n",
        "ax.legend(handlelength=4)\n",
        "plt.show()"
      ],
      "metadata": {
        "id": "Zp5utNcWI6Qj",
        "colab": {
          "base_uri": "https://localhost:8080/",
          "height": 430
        },
        "outputId": "989a9fd6-dc64-4f6e-896d-40b7914959b0"
      },
      "execution_count": null,
      "outputs": [
        {
          "output_type": "display_data",
          "data": {
            "text/plain": [
              "<Figure size 640x480 with 1 Axes>"
            ],
            "image/png": "[encoded data removed]"
          },
          "metadata": {}
        }
      ]
    },
    {
      "cell_type": "code",
      "source": [
        "import matplotlib.pyplot as plt\n",
        "import numpy as np\n",
        "\n",
        "x = np.linspace(-10,10,75)\n",
        "y = np.sin(x)\n",
        "\n",
        "fig, ax = plt.subplots()\n",
        "\n",
        "ax.plot(x, y, color='black')\n",
        "ax.axhline(0, color='black')\n",
        "\n",
        "ax.fill_between(x, 1, where=y > 0, facecolor='green', alpha=.5)\n",
        "ax.fill_between(x, -1, where=y < 0, facecolor='red', alpha=.5)\n",
        "\n",
        "plt.show()"
      ],
      "metadata": {
        "id": "ZU7yJ91lI6aS",
        "colab": {
          "base_uri": "https://localhost:8080/",
          "height": 430
        },
        "outputId": "96d2df3a-bdec-44a1-b834-081c752c8b64"
      },
      "execution_count": null,
      "outputs": [
        {
          "output_type": "display_data",
          "data": {
            "text/plain": [
              "<Figure size 640x480 with 1 Axes>"
            ],
            "image/png": "[encoded data removed]"
          },
          "metadata": {}
        }
      ]
    },
    {
      "cell_type": "code",
      "source": [
        "import matplotlib.pyplot as plt\n",
        "import numpy as np\n",
        "\n",
        "x=np.linspace(-10,10,100)\n",
        "y=np.exp(x)\n",
        "\n",
        "plt.plot(x, y)\n",
        "plt.fill_between(x, y, color='skyblue')\n"
      ],
      "metadata": {
        "id": "OqlbqmRcI6kY",
        "colab": {
          "base_uri": "https://localhost:8080/",
          "height": 448
        },
        "outputId": "d750d739-0ed7-48ee-929d-a84a56427edd"
      },
      "execution_count": null,
      "outputs": [
        {
          "output_type": "execute_result",
          "data": {
            "text/plain": [
              "<matplotlib.collections.PolyCollection at 0x7e1343b3a2f0>"
            ]
          },
          "metadata": {},
          "execution_count": 152
        },
        {
          "output_type": "display_data",
          "data": {
            "text/plain": [
              "<Figure size 640x480 with 1 Axes>"
            ],
            "image/png": "[encoded data removed]"
          },
          "metadata": {}
        }
      ]
    },
    {
      "cell_type": "code",
      "source": [
        "import matplotlib.pyplot as plt\n",
        "import numpy as np\n",
        "\n",
        "from matplotlib import patheffects\n",
        "\n",
        "x=np.linspace(-10,10,100)\n",
        "y=np.exp(-x*2)\n",
        "\n",
        "nx = 101\n",
        "plt.plot(x, y, label=\"Curve\", path_effects=[patheffects.withTickedStroke()])\n"
      ],
      "metadata": {
        "colab": {
          "base_uri": "https://localhost:8080/",
          "height": 463
        },
        "id": "89f9g2qy7Mzh",
        "outputId": "32ee3c9b-d61a-44a0-96f5-aa7e8b3e1bde"
      },
      "execution_count": null,
      "outputs": [
        {
          "output_type": "execute_result",
          "data": {
            "text/plain": [
              "[<matplotlib.lines.Line2D at 0x7e13431e3130>]"
            ]
          },
          "metadata": {},
          "execution_count": 155
        },
        {
          "output_type": "display_data",
          "data": {
            "text/plain": [
              "<Figure size 640x480 with 1 Axes>"
            ],
            "image/png": "[encoded data removed]"
          },
          "metadata": {}
        }
      ]
    },
    {
      "cell_type": "markdown",
      "source": [
        "### Graphics Output"
      ],
      "metadata": {
        "id": "lrL2Razq9AT7"
      }
    },
    {
      "cell_type": "code",
      "execution_count": null,
      "metadata": {
        "id": "SS8HqWzEEs8l"
      },
      "outputs": [],
      "source": [
        "from IPython.core.display import display, HTML #allows python to display different things such as images or html code"
      ]
    },
    {
      "cell_type": "code",
      "metadata": {
        "id": "scoPAjX5I36X",
        "colab": {
          "base_uri": "https://localhost:8080/",
          "height": 74
        },
        "outputId": "b2ff02f7-4f8f-44c1-d398-82d56070a7c1"
      },
      "source": [
        "display(HTML('<h1>Hello World!</h1>')) #displays \"Hello world\", written in html code"
      ],
      "execution_count": null,
      "outputs": [
        {
          "output_type": "display_data",
          "data": {
            "text/plain": [
              "<IPython.core.display.HTML object>"
            ],
            "text/html": [
              "<h1>Hello World!</h1>"
            ]
          },
          "metadata": {}
        }
      ]
    },
    {
      "cell_type": "markdown",
      "source": [
        "### Numpy - Numerical Python"
      ],
      "metadata": {
        "id": "dTOHPs3KFQ2U"
      }
    },
    {
      "cell_type": "code",
      "source": [
        "import numpy as np"
      ],
      "metadata": {
        "id": "BC1S6fo9FOBE"
      },
      "execution_count": null,
      "outputs": []
    },
    {
      "cell_type": "code",
      "source": [
        "np.random.random() #generates a random number between 0 & 1"
      ],
      "metadata": {
        "id": "Qo72tOfu5YTm",
        "colab": {
          "base_uri": "https://localhost:8080/"
        },
        "outputId": "dce98e44-6224-4273-b28a-69d610368414"
      },
      "execution_count": null,
      "outputs": [
        {
          "output_type": "execute_result",
          "data": {
            "text/plain": [
              "0.4486866372882522"
            ]
          },
          "metadata": {},
          "execution_count": 164
        }
      ]
    },
    {
      "cell_type": "code",
      "source": [
        "np.random.random() > 0.5 #generates a random number and displays true or false for if it meets the condition of being greater than .5"
      ],
      "metadata": {
        "id": "Ew6vCebg5aXK",
        "colab": {
          "base_uri": "https://localhost:8080/"
        },
        "outputId": "06b1aee9-fe79-4cf6-f1ad-23a96a047031"
      },
      "execution_count": null,
      "outputs": [
        {
          "output_type": "execute_result",
          "data": {
            "text/plain": [
              "False"
            ]
          },
          "metadata": {},
          "execution_count": 175
        }
      ]
    },
    {
      "cell_type": "code",
      "source": [
        "r = np.random.random(); print(r); r >0.5 #prints the value as well"
      ],
      "metadata": {
        "id": "9Kxax1cSKi0e",
        "colab": {
          "base_uri": "https://localhost:8080/"
        },
        "outputId": "6afbdd34-34ab-48a8-fb50-c98d7982c566"
      },
      "execution_count": null,
      "outputs": [
        {
          "output_type": "stream",
          "name": "stdout",
          "text": [
            "0.7237847177228938\n"
          ]
        },
        {
          "output_type": "execute_result",
          "data": {
            "text/plain": [
              "True"
            ]
          },
          "metadata": {},
          "execution_count": 180
        }
      ]
    },
    {
      "cell_type": "code",
      "source": [
        "r"
      ],
      "metadata": {
        "id": "wGJ6FEojKjB1",
        "colab": {
          "base_uri": "https://localhost:8080/"
        },
        "outputId": "6bb967ab-519a-4264-d3bc-aa0f1799b003"
      },
      "execution_count": null,
      "outputs": [
        {
          "output_type": "execute_result",
          "data": {
            "text/plain": [
              "0.7237847177228938"
            ]
          },
          "metadata": {},
          "execution_count": 181
        }
      ]
    },
    {
      "cell_type": "code",
      "source": [
        "r > 0.5 #is the variable bigger than .5? true or falso"
      ],
      "metadata": {
        "id": "mclzEhslKjPP",
        "colab": {
          "base_uri": "https://localhost:8080/"
        },
        "outputId": "f2b81d47-a9e1-469c-a2dd-6b16ab95c080"
      },
      "execution_count": null,
      "outputs": [
        {
          "output_type": "execute_result",
          "data": {
            "text/plain": [
              "True"
            ]
          },
          "metadata": {},
          "execution_count": 182
        }
      ]
    },
    {
      "cell_type": "code",
      "source": [],
      "metadata": {
        "id": "2mcw6yU1KjfO"
      },
      "execution_count": null,
      "outputs": []
    },
    {
      "cell_type": "code",
      "source": [],
      "metadata": {
        "id": "LnQJtIIEKjt-"
      },
      "execution_count": null,
      "outputs": []
    },
    {
      "cell_type": "code",
      "source": [],
      "metadata": {
        "id": "eueTYbXdJ_wy"
      },
      "execution_count": null,
      "outputs": []
    },
    {
      "cell_type": "code",
      "source": [
        "def flip_coin(): #creates a function called \"flip_coin\" which chooses heads or tails, a 50/50 chance, and then prints the output\n",
        "    if np.random.random() > 0.5:\n",
        "        print(\"Heads\")\n",
        "    else:\n",
        "        print(\"Tails\")"
      ],
      "metadata": {
        "id": "HwbqZHbm5e2u"
      },
      "execution_count": null,
      "outputs": []
    },
    {
      "cell_type": "code",
      "source": [
        "flip_coin()"
      ],
      "metadata": {
        "id": "ZcbnR1ln5sNh",
        "colab": {
          "base_uri": "https://localhost:8080/"
        },
        "outputId": "1d8b0f00-a12f-405f-edd2-88ea03ed38c0"
      },
      "execution_count": null,
      "outputs": [
        {
          "output_type": "stream",
          "name": "stdout",
          "text": [
            "Heads\n"
          ]
        }
      ]
    },
    {
      "cell_type": "code",
      "source": [
        "np.random.randint(15,20) #randint=random integer, from 15 up to 20"
      ],
      "metadata": {
        "id": "VNb9hPJuLqWF",
        "colab": {
          "base_uri": "https://localhost:8080/"
        },
        "outputId": "eb48a3ff-eaed-4ea9-918e-e949c4b34dd5"
      },
      "execution_count": null,
      "outputs": [
        {
          "output_type": "execute_result",
          "data": {
            "text/plain": [
              "18"
            ]
          },
          "metadata": {},
          "execution_count": 217
        }
      ]
    },
    {
      "cell_type": "code",
      "metadata": {
        "id": "vFHNmtSRpyXg"
      },
      "source": [
        "def coin():\n",
        "  return np.random.randint(2) #returns a random integer, from 0 up to 2, so 0 or 1"
      ],
      "execution_count": null,
      "outputs": []
    },
    {
      "cell_type": "code",
      "metadata": {
        "id": "AfAPWIjzp2gY",
        "colab": {
          "base_uri": "https://localhost:8080/"
        },
        "outputId": "c916386a-dfb5-4ad7-b6c7-b2e05b3030b5"
      },
      "source": [
        "coin()"
      ],
      "execution_count": null,
      "outputs": [
        {
          "output_type": "execute_result",
          "data": {
            "text/plain": [
              "1"
            ]
          },
          "metadata": {},
          "execution_count": 229
        }
      ]
    },
    {
      "cell_type": "code",
      "metadata": {
        "id": "m-fkSNLTp4TH",
        "colab": {
          "base_uri": "https://localhost:8080/",
          "height": 221
        },
        "outputId": "14ff4eff-5ae2-47ac-d091-174b404008b2"
      },
      "source": [
        "display(HTML('<img src=\"https://random-ize.com/coin-flip/us-quarter/us-quarter-front.jpg\">')) #displays an html link, in this case an image"
      ],
      "execution_count": null,
      "outputs": [
        {
          "output_type": "display_data",
          "data": {
            "text/plain": [
              "<IPython.core.display.HTML object>"
            ],
            "text/html": [
              "<img src=\"https://random-ize.com/coin-flip/us-quarter/us-quarter-front.jpg\">"
            ]
          },
          "metadata": {}
        }
      ]
    },
    {
      "cell_type": "code",
      "metadata": {
        "id": "PAyD2RQrq8ji"
      },
      "source": [
        "heads = 'https://random-ize.com/coin-flip/us-quarter/us-quarter-front.jpg' #assigns a variable called heads or tails, that contain links to images\n",
        "tails = 'https://random-ize.com/coin-flip/us-quarter/us-quarter-back.jpg'"
      ],
      "execution_count": null,
      "outputs": []
    },
    {
      "cell_type": "code",
      "metadata": {
        "id": "BmZMzsCjrhaV"
      },
      "source": [
        "def show_img(image):#creates a function \"show_img\" that is dependant on variable \"image\"\n",
        "  display(HTML('<img src=' + image + '>')) #displays the variable \"image\" in html"
      ],
      "execution_count": null,
      "outputs": []
    },
    {
      "cell_type": "code",
      "metadata": {
        "id": "UmSs0Jtrr_d2",
        "colab": {
          "base_uri": "https://localhost:8080/",
          "height": 221
        },
        "outputId": "689df8b9-6b7d-4b78-c9f6-0aa4efbbcd2f"
      },
      "source": [
        "show_img(heads)"
      ],
      "execution_count": null,
      "outputs": [
        {
          "output_type": "display_data",
          "data": {
            "text/plain": [
              "<IPython.core.display.HTML object>"
            ],
            "text/html": [
              "<img src=https://random-ize.com/coin-flip/us-quarter/us-quarter-front.jpg>"
            ]
          },
          "metadata": {}
        }
      ]
    },
    {
      "cell_type": "code",
      "metadata": {
        "id": "LDcFpan0sBgm",
        "colab": {
          "base_uri": "https://localhost:8080/",
          "height": 221
        },
        "outputId": "5af2ab40-a5c6-4431-c7d0-d06266fb7366"
      },
      "source": [
        "show_img(tails)"
      ],
      "execution_count": null,
      "outputs": [
        {
          "output_type": "display_data",
          "data": {
            "text/plain": [
              "<IPython.core.display.HTML object>"
            ],
            "text/html": [
              "<img src=https://random-ize.com/coin-flip/us-quarter/us-quarter-back.jpg>"
            ]
          },
          "metadata": {}
        }
      ]
    },
    {
      "cell_type": "code",
      "metadata": {
        "id": "U1Oe2gBlsFFQ"
      },
      "source": [
        "def flip_coin():          #combines it all, creates a function that shows a linked image of the random coinflip result\n",
        "\n",
        "    if coin():\n",
        "        show_img(heads)\n",
        "    else:\n",
        "        show_img(tails)"
      ],
      "execution_count": null,
      "outputs": []
    },
    {
      "cell_type": "code",
      "metadata": {
        "id": "qatV0cO1tLAF",
        "colab": {
          "base_uri": "https://localhost:8080/",
          "height": 221
        },
        "outputId": "8bab6739-c9dd-4eba-e31c-d7c986ce6c89"
      },
      "source": [
        "flip_coin()"
      ],
      "execution_count": null,
      "outputs": [
        {
          "output_type": "display_data",
          "data": {
            "text/plain": [
              "<IPython.core.display.HTML object>"
            ],
            "text/html": [
              "<img src=https://random-ize.com/coin-flip/us-quarter/us-quarter-front.jpg>"
            ]
          },
          "metadata": {}
        }
      ]
    },
    {
      "cell_type": "code",
      "source": [
        "for i in range(5): #runs the function 5 times\n",
        "    flip_coin()"
      ],
      "metadata": {
        "id": "JK_63sBc9ze4",
        "colab": {
          "base_uri": "https://localhost:8080/",
          "height": 1000
        },
        "outputId": "d2f50191-b1b4-49b7-c1a8-40f5b3fb4f10"
      },
      "execution_count": null,
      "outputs": [
        {
          "output_type": "display_data",
          "data": {
            "text/plain": [
              "<IPython.core.display.HTML object>"
            ],
            "text/html": [
              "<img src=https://random-ize.com/coin-flip/us-quarter/us-quarter-back.jpg>"
            ]
          },
          "metadata": {}
        },
        {
          "output_type": "display_data",
          "data": {
            "text/plain": [
              "<IPython.core.display.HTML object>"
            ],
            "text/html": [
              "<img src=https://random-ize.com/coin-flip/us-quarter/us-quarter-front.jpg>"
            ]
          },
          "metadata": {}
        },
        {
          "output_type": "display_data",
          "data": {
            "text/plain": [
              "<IPython.core.display.HTML object>"
            ],
            "text/html": [
              "<img src=https://random-ize.com/coin-flip/us-quarter/us-quarter-back.jpg>"
            ]
          },
          "metadata": {}
        },
        {
          "output_type": "display_data",
          "data": {
            "text/plain": [
              "<IPython.core.display.HTML object>"
            ],
            "text/html": [
              "<img src=https://random-ize.com/coin-flip/us-quarter/us-quarter-back.jpg>"
            ]
          },
          "metadata": {}
        },
        {
          "output_type": "display_data",
          "data": {
            "text/plain": [
              "<IPython.core.display.HTML object>"
            ],
            "text/html": [
              "<img src=https://random-ize.com/coin-flip/us-quarter/us-quarter-front.jpg>"
            ]
          },
          "metadata": {}
        }
      ]
    },
    {
      "cell_type": "code",
      "source": [],
      "metadata": {
        "id": "cB59QfQgFb4f"
      },
      "execution_count": null,
      "outputs": []
    },
    {
      "cell_type": "code",
      "source": [],
      "metadata": {
        "id": "x6FbWdWHGx8m"
      },
      "execution_count": null,
      "outputs": []
    },
    {
      "cell_type": "markdown",
      "source": [
        "# Cards"
      ],
      "metadata": {
        "id": "xe9KExvXIFDQ"
      }
    },
    {
      "cell_type": "code",
      "source": [],
      "metadata": {
        "id": "whfcIkG8IWER"
      },
      "execution_count": null,
      "outputs": []
    },
    {
      "cell_type": "code",
      "source": [
        "card_url_head = \"https://www.improvemagic.com/wp-content/uploads/2020/11/\" #this website has images of each card\n",
        "#between the \"head\" and the \"tail\" a two digit code, first for suit, second for value, will be inputted to complete the link and display the card\n",
        "card_url_tail = \".png\""
      ],
      "metadata": {
        "id": "ZuGAbJIC_BGM"
      },
      "execution_count": null,
      "outputs": []
    },
    {
      "cell_type": "code",
      "source": [
        "suit = ['k','p','s','l'] #clubs,spades,hearts,diamonds\n",
        "card = ['a','2','3','4','5','6','7','8','9','10','j','q','k'] #values of the cards"
      ],
      "metadata": {
        "id": "FSYUTq2F_BIx"
      },
      "execution_count": null,
      "outputs": []
    },
    {
      "cell_type": "code",
      "source": [
        "i = np.random.randint(4) #creates a variable i, and picks a random integer from 0 up to 4\n",
        "j = np.random.randint(13) #creates a variable j, and picks a random integer from 0 up to 13"
      ],
      "metadata": {
        "id": "4UBNVwxU_BL5"
      },
      "execution_count": null,
      "outputs": []
    },
    {
      "cell_type": "code",
      "source": [
        "i,j #displays the values of our two indexes"
      ],
      "metadata": {
        "id": "pAx5veOKJYqk",
        "colab": {
          "base_uri": "https://localhost:8080/"
        },
        "outputId": "80ca0883-631d-4b59-b487-57f035e8d996"
      },
      "execution_count": null,
      "outputs": [
        {
          "output_type": "execute_result",
          "data": {
            "text/plain": [
              "(2, 12)"
            ]
          },
          "metadata": {},
          "execution_count": 310
        }
      ]
    },
    {
      "cell_type": "code",
      "source": [
        "suit[i] #assigns the random index \"i\" that was generated to a position in the \"suit\" array"
      ],
      "metadata": {
        "id": "PJI87rOLADjE",
        "colab": {
          "base_uri": "https://localhost:8080/",
          "height": 35
        },
        "outputId": "a4d6c5f6-0435-4774-a7f0-e4d4bc7f7e62"
      },
      "execution_count": null,
      "outputs": [
        {
          "output_type": "execute_result",
          "data": {
            "text/plain": [
              "'s'"
            ],
            "application/vnd.google.colaboratory.intrinsic+json": {
              "type": "string"
            }
          },
          "metadata": {},
          "execution_count": 312
        }
      ]
    },
    {
      "cell_type": "code",
      "source": [
        "card[j] #assigns the random index \"j\" that was generated to a position in the \"card\" array"
      ],
      "metadata": {
        "id": "4CDlPu3QAGrB",
        "colab": {
          "base_uri": "https://localhost:8080/",
          "height": 35
        },
        "outputId": "a2de353a-6d1d-4791-b4d4-8448af116175"
      },
      "execution_count": null,
      "outputs": [
        {
          "output_type": "execute_result",
          "data": {
            "text/plain": [
              "'k'"
            ],
            "application/vnd.google.colaboratory.intrinsic+json": {
              "type": "string"
            }
          },
          "metadata": {},
          "execution_count": 318
        }
      ]
    },
    {
      "cell_type": "code",
      "source": [
        "def card_image(card_number): #creates a function that accepts a variable \"card_number\" and determines the i and j (suit and value) of the card\n",
        "\n",
        "    i = card_number//13 #assigns i as number equal to card_number divided by 13, rounded down\n",
        "    j = card_number%13 #assignes j as the number equal to the remainder of card_number divided by 13\n",
        "    #this creates a function that can take the input number and assign it to different baskets in intervals of 13\n",
        "\n",
        "    return suit[i]+card[j]"
      ],
      "metadata": {
        "id": "JtqOFl_WAVxd"
      },
      "execution_count": null,
      "outputs": []
    },
    {
      "cell_type": "code",
      "source": [
        "card_image(1) #between 0-51, you can select any card"
      ],
      "metadata": {
        "id": "K1MVgXJ-AVz0",
        "colab": {
          "base_uri": "https://localhost:8080/",
          "height": 35
        },
        "outputId": "4541da05-b679-4be0-af7c-a54a33cd6b0a"
      },
      "execution_count": null,
      "outputs": [
        {
          "output_type": "execute_result",
          "data": {
            "text/plain": [
              "'k2'"
            ],
            "application/vnd.google.colaboratory.intrinsic+json": {
              "type": "string"
            }
          },
          "metadata": {},
          "execution_count": 343
        }
      ]
    },
    {
      "cell_type": "code",
      "source": [
        "img = card_url_head + card_image(16) + card_url_tail #completes the link with the desired card"
      ],
      "metadata": {
        "id": "2TGYbXUiB1iw"
      },
      "execution_count": null,
      "outputs": []
    },
    {
      "cell_type": "code",
      "source": [
        "img"
      ],
      "metadata": {
        "id": "_1DG4MhBNRDV",
        "colab": {
          "base_uri": "https://localhost:8080/",
          "height": 35
        },
        "outputId": "2d6be40d-fed2-4215-c63c-48ba8024ea4b"
      },
      "execution_count": null,
      "outputs": [
        {
          "output_type": "execute_result",
          "data": {
            "text/plain": [
              "'https://www.improvemagic.com/wp-content/uploads/2020/11/k2.png'"
            ],
            "application/vnd.google.colaboratory.intrinsic+json": {
              "type": "string"
            }
          },
          "metadata": {},
          "execution_count": 329
        }
      ]
    },
    {
      "cell_type": "code",
      "source": [
        "show_img(img) #displays the card"
      ],
      "metadata": {
        "id": "Ve1UcoH3B5sS",
        "colab": {
          "base_uri": "https://localhost:8080/",
          "height": 334
        },
        "outputId": "ebd667d9-2759-49aa-c74d-6765840da627"
      },
      "execution_count": null,
      "outputs": [
        {
          "output_type": "display_data",
          "data": {
            "text/plain": [
              "<IPython.core.display.HTML object>"
            ],
            "text/html": [
              "<img src=https://www.improvemagic.com/wp-content/uploads/2020/11/p4.png>"
            ]
          },
          "metadata": {}
        }
      ]
    },
    {
      "cell_type": "code",
      "source": [
        "for i in range(52): #creates a for loop that displays each card, one by one\n",
        "    img = card_url_head + card_image(i) + card_url_tail\n",
        "    show_img(img)"
      ],
      "metadata": {
        "id": "UCervcFTB5ut"
      },
      "execution_count": null,
      "outputs": []
    },
    {
      "cell_type": "code",
      "source": [
        "import random\n",
        "\n",
        "def initialize_deck():\n",
        "    #Create and shuffle a deck of 52 cards represented by numbers 0-51.\n",
        "    deck = list(range(52))\n",
        "    random.shuffle(deck)\n",
        "    return deck\n",
        "#creats a deck of 52 cards and arranges them in a random order\n",
        "def draw_cards(deck, top_index, num=5):\n",
        "    drawn_cards = deck[top_index:top_index + num]\n",
        "    return drawn_cards, top_index + num\n",
        "#creates a function that allows you to draw \"num\" amount of cards, from the top of the index, to the top of the index + \"num\"\n",
        "# Initialize and shuffle the deck\n",
        "deck = initialize_deck()\n",
        "top_index = 0  # Start at the beginning of the deck"
      ],
      "metadata": {
        "id": "XiZJmBheIPfo"
      },
      "execution_count": null,
      "outputs": []
    },
    {
      "cell_type": "code",
      "source": [
        "deck"
      ],
      "metadata": {
        "id": "Xa8Sgnm_Z20Z",
        "colab": {
          "base_uri": "https://localhost:8080/"
        },
        "outputId": "08045798-0ebd-44e4-c202-953e20b89f94"
      },
      "execution_count": null,
      "outputs": [
        {
          "output_type": "execute_result",
          "data": {
            "text/plain": [
              "[37,\n",
              " 36,\n",
              " 22,\n",
              " 40,\n",
              " 11,\n",
              " 10,\n",
              " 12,\n",
              " 1,\n",
              " 14,\n",
              " 39,\n",
              " 25,\n",
              " 28,\n",
              " 32,\n",
              " 17,\n",
              " 3,\n",
              " 38,\n",
              " 42,\n",
              " 50,\n",
              " 26,\n",
              " 46,\n",
              " 16,\n",
              " 34,\n",
              " 8,\n",
              " 47,\n",
              " 43,\n",
              " 30,\n",
              " 45,\n",
              " 2,\n",
              " 51,\n",
              " 4,\n",
              " 41,\n",
              " 35,\n",
              " 48,\n",
              " 27,\n",
              " 23,\n",
              " 21,\n",
              " 13,\n",
              " 19,\n",
              " 20,\n",
              " 6,\n",
              " 9,\n",
              " 44,\n",
              " 7,\n",
              " 18,\n",
              " 24,\n",
              " 29,\n",
              " 15,\n",
              " 0,\n",
              " 49,\n",
              " 33,\n",
              " 5,\n",
              " 31]"
            ]
          },
          "metadata": {},
          "execution_count": 348
        }
      ]
    },
    {
      "cell_type": "code",
      "source": [
        "# Draw 5 cards for a poker hand\n",
        "hand, top_index = draw_cards(deck, top_index, 5)"
      ],
      "metadata": {
        "id": "-o6dg7HgZyY-"
      },
      "execution_count": null,
      "outputs": []
    },
    {
      "cell_type": "code",
      "source": [
        "hand"
      ],
      "metadata": {
        "id": "yD7PXNOEZz6y",
        "colab": {
          "base_uri": "https://localhost:8080/"
        },
        "outputId": "7df674b7-2698-444d-a83f-874a2ee93b0e"
      },
      "execution_count": null,
      "outputs": [
        {
          "output_type": "execute_result",
          "data": {
            "text/plain": [
              "[9, 19, 10, 37, 23]"
            ]
          },
          "metadata": {},
          "execution_count": 354
        }
      ]
    },
    {
      "cell_type": "code",
      "source": [
        "hand, top_index = draw_cards(deck, top_index, 5)"
      ],
      "metadata": {
        "id": "p2k3mE9VZvlL"
      },
      "execution_count": null,
      "outputs": []
    },
    {
      "cell_type": "code",
      "source": [
        "hand"
      ],
      "metadata": {
        "id": "CON4qPmYZ1Cy",
        "colab": {
          "base_uri": "https://localhost:8080/"
        },
        "outputId": "4d59e80d-0b79-4e96-e859-89c2d91584aa"
      },
      "execution_count": null,
      "outputs": [
        {
          "output_type": "execute_result",
          "data": {
            "text/plain": [
              "[14, 25, 26, 40, 11]"
            ]
          },
          "metadata": {},
          "execution_count": 358
        }
      ]
    },
    {
      "cell_type": "code",
      "source": [
        "# Display the hand\n",
        "for card_number in hand:\n",
        "    img_url = card_url_head + card_image(card_number) + card_url_tail\n",
        "    show_img(img_url)"
      ],
      "metadata": {
        "id": "RJC98zl-YDi1",
        "colab": {
          "base_uri": "https://localhost:8080/",
          "height": 1000
        },
        "outputId": "98f85e58-cb96-46c3-b209-eebecb3172fa"
      },
      "execution_count": null,
      "outputs": [
        {
          "output_type": "display_data",
          "data": {
            "text/plain": [
              "<IPython.core.display.HTML object>"
            ],
            "text/html": [
              "<img src=https://www.improvemagic.com/wp-content/uploads/2020/11/p2.png>"
            ]
          },
          "metadata": {}
        },
        {
          "output_type": "display_data",
          "data": {
            "text/plain": [
              "<IPython.core.display.HTML object>"
            ],
            "text/html": [
              "<img src=https://www.improvemagic.com/wp-content/uploads/2020/11/pk.png>"
            ]
          },
          "metadata": {}
        },
        {
          "output_type": "display_data",
          "data": {
            "text/plain": [
              "<IPython.core.display.HTML object>"
            ],
            "text/html": [
              "<img src=https://www.improvemagic.com/wp-content/uploads/2020/11/sa.png>"
            ]
          },
          "metadata": {}
        },
        {
          "output_type": "display_data",
          "data": {
            "text/plain": [
              "<IPython.core.display.HTML object>"
            ],
            "text/html": [
              "<img src=https://www.improvemagic.com/wp-content/uploads/2020/11/l2.png>"
            ]
          },
          "metadata": {}
        },
        {
          "output_type": "display_data",
          "data": {
            "text/plain": [
              "<IPython.core.display.HTML object>"
            ],
            "text/html": [
              "<img src=https://www.improvemagic.com/wp-content/uploads/2020/11/kq.png>"
            ]
          },
          "metadata": {}
        }
      ]
    },
    {
      "cell_type": "code",
      "source": [
        "def show_hand(hand): #displays all the images in a row\n",
        "    images_html = ''.join([f'<img src=\"{card_url_head + card_image(card_number) + card_url_tail}\" style=\"display:inline-block; margin:5px;\" />' for card_number in hand])\n",
        "    display(HTML(images_html))\n",
        "\n",
        "show_hand(hand)\n"
      ],
      "metadata": {
        "id": "JMciwLZZYfAA",
        "colab": {
          "base_uri": "https://localhost:8080/",
          "height": 344
        },
        "outputId": "f7300ee4-ff5f-4853-efc0-1ce7df1ce680"
      },
      "execution_count": null,
      "outputs": [
        {
          "output_type": "display_data",
          "data": {
            "text/plain": [
              "<IPython.core.display.HTML object>"
            ],
            "text/html": [
              "<img src=\"https://www.improvemagic.com/wp-content/uploads/2020/11/p2.png\" style=\"display:inline-block; margin:5px;\" /><img src=\"https://www.improvemagic.com/wp-content/uploads/2020/11/pk.png\" style=\"display:inline-block; margin:5px;\" /><img src=\"https://www.improvemagic.com/wp-content/uploads/2020/11/sa.png\" style=\"display:inline-block; margin:5px;\" /><img src=\"https://www.improvemagic.com/wp-content/uploads/2020/11/l2.png\" style=\"display:inline-block; margin:5px;\" /><img src=\"https://www.improvemagic.com/wp-content/uploads/2020/11/kq.png\" style=\"display:inline-block; margin:5px;\" />"
            ]
          },
          "metadata": {}
        }
      ]
    },
    {
      "cell_type": "code",
      "source": [],
      "metadata": {
        "id": "4pSVdfBDaESe"
      },
      "execution_count": null,
      "outputs": []
    },
    {
      "cell_type": "code",
      "source": [],
      "metadata": {
        "id": "CIyFI0YraEZ2"
      },
      "execution_count": null,
      "outputs": []
    },
    {
      "cell_type": "markdown",
      "source": [
        "# Rank Hand"
      ],
      "metadata": {
        "id": "P8xGcQSuauDT"
      }
    },
    {
      "cell_type": "code",
      "source": [
        "def evaluate_hand(hand):\n",
        "    rank_values = {'2': 2, '3': 3, '4': 4, '5': 5, '6': 6, '7': 7, '8': 8, '9': 9, '10': 10, 'j': 11, 'q': 12, 'k': 13, 'a': 14}\n",
        "    suits = ['k', 'p', 's', 'l']  # clubs, spades, hearts, diamonds\n",
        "\n",
        "    # Convert the hand to a list of (rank, suit) tuples\n",
        "    converted_hand = [(rank_values[card[card_number % 13]], suits[card_number // 13]) for card_number in hand] #converts each card value and suit to different outputs\n",
        "    converted_hand.sort() #sorts the cards in order\n",
        "\n",
        "    rank_counts = {rank: 0 for rank in rank_values.values()}\n",
        "    suit_counts = {suit: 0 for suit in suits}\n",
        "    for rank, suit in converted_hand:\n",
        "        rank_counts[rank] += 1\n",
        "        suit_counts[suit] += 1\n",
        "\n",
        "    # Check for flush\n",
        "    is_flush = max(suit_counts.values()) == 5 #checks for 5 cards with the same suit value\n",
        "\n",
        "    # Check for straight and royal flush\n",
        "    rank_sequence = [rank for rank, _ in converted_hand]\n",
        "    is_straight = all(rank_sequence[i] - rank_sequence[i - 1] == 1 for i in range(1, 5)) #checks if the difference between each card is 1, if so, it is a straight\n",
        "    is_royal = is_straight and rank_sequence[0] == 10\n",
        "\n",
        "    # Check for other hand types\n",
        "    pairs = sum(1 for count in rank_counts.values() if count == 2)\n",
        "    three_of_a_kind = 3 in rank_counts.values()\n",
        "    four_of_a_kind = 4 in rank_counts.values()\n",
        "\n",
        "    if is_royal and is_flush:\n",
        "        return \"Royal Flush\"\n",
        "    elif is_straight and is_flush:\n",
        "        return \"Straight Flush\"\n",
        "    elif four_of_a_kind:\n",
        "        return \"Four of a Kind\"\n",
        "    elif three_of_a_kind and pairs == 1:\n",
        "        return \"Full House\"\n",
        "    elif is_flush:\n",
        "        return \"Flush\"\n",
        "    elif is_straight:\n",
        "        return \"Straight\"\n",
        "    elif three_of_a_kind:\n",
        "        return \"Three of a Kind\"\n",
        "    elif pairs == 2:\n",
        "        return \"Two Pair\"\n",
        "    elif pairs == 1:\n",
        "        return \"One Pair\"\n",
        "    else:\n",
        "        return \"High Card\""
      ],
      "metadata": {
        "id": "5X7L14IXXwB1"
      },
      "execution_count": null,
      "outputs": []
    },
    {
      "cell_type": "code",
      "source": [],
      "metadata": {
        "id": "88Ln53YKaPFs"
      },
      "execution_count": null,
      "outputs": []
    },
    {
      "cell_type": "code",
      "source": [
        "# Initialize and shuffle the deck\n",
        "deck = initialize_deck()\n",
        "top_index = 0  # Start at the beginning of the deck\n",
        "\n",
        "hand, top_index = draw_cards(deck, top_index, 5)\n",
        "\n",
        "\n",
        "print(evaluate_hand(hand))\n",
        "show_hand(hand)"
      ],
      "metadata": {
        "id": "9n4BkXCgaPIN",
        "colab": {
          "base_uri": "https://localhost:8080/",
          "height": 360
        },
        "outputId": "2f785d0c-4dd3-47f0-e3a1-fadd0c87b6f7"
      },
      "execution_count": null,
      "outputs": [
        {
          "output_type": "stream",
          "name": "stdout",
          "text": [
            "One Pair\n"
          ]
        },
        {
          "output_type": "display_data",
          "data": {
            "text/plain": [
              "<IPython.core.display.HTML object>"
            ],
            "text/html": [
              "<img src=\"https://www.improvemagic.com/wp-content/uploads/2020/11/sq.png\" style=\"display:inline-block; margin:5px;\" /><img src=\"https://www.improvemagic.com/wp-content/uploads/2020/11/k9.png\" style=\"display:inline-block; margin:5px;\" /><img src=\"https://www.improvemagic.com/wp-content/uploads/2020/11/k5.png\" style=\"display:inline-block; margin:5px;\" /><img src=\"https://www.improvemagic.com/wp-content/uploads/2020/11/kq.png\" style=\"display:inline-block; margin:5px;\" /><img src=\"https://www.improvemagic.com/wp-content/uploads/2020/11/k8.png\" style=\"display:inline-block; margin:5px;\" />"
            ]
          },
          "metadata": {}
        }
      ]
    },
    {
      "cell_type": "code",
      "source": [],
      "metadata": {
        "id": "Gvkbf51BYrQN"
      },
      "execution_count": null,
      "outputs": []
    },
    {
      "cell_type": "code",
      "source": [
        "for i in range(10): #displays 10 hands and evaluate them\n",
        "    # Initialize and shuffle the deck\n",
        "    deck = initialize_deck()\n",
        "    top_index = 0  # Start at the beginning of the deck\n",
        "\n",
        "    hand, top_index = draw_cards(deck, top_index, 5)\n",
        "\n",
        "\n",
        "    print(evaluate_hand(hand))\n",
        "    show_hand(hand)"
      ],
      "metadata": {
        "id": "3Nio0wmHajqT",
        "colab": {
          "base_uri": "https://localhost:8080/",
          "height": 1000
        },
        "outputId": "a4ed335e-b374-4371-f046-873114a4c697"
      },
      "execution_count": null,
      "outputs": [
        {
          "output_type": "stream",
          "name": "stdout",
          "text": [
            "One Pair\n"
          ]
        },
        {
          "output_type": "display_data",
          "data": {
            "text/plain": [
              "<IPython.core.display.HTML object>"
            ],
            "text/html": [
              "<img src=\"https://www.improvemagic.com/wp-content/uploads/2020/11/p3.png\" style=\"display:inline-block; margin:5px;\" /><img src=\"https://www.improvemagic.com/wp-content/uploads/2020/11/l9.png\" style=\"display:inline-block; margin:5px;\" /><img src=\"https://www.improvemagic.com/wp-content/uploads/2020/11/pq.png\" style=\"display:inline-block; margin:5px;\" /><img src=\"https://www.improvemagic.com/wp-content/uploads/2020/11/l8.png\" style=\"display:inline-block; margin:5px;\" /><img src=\"https://www.improvemagic.com/wp-content/uploads/2020/11/s3.png\" style=\"display:inline-block; margin:5px;\" />"
            ]
          },
          "metadata": {}
        },
        {
          "output_type": "stream",
          "name": "stdout",
          "text": [
            "One Pair\n"
          ]
        },
        {
          "output_type": "display_data",
          "data": {
            "text/plain": [
              "<IPython.core.display.HTML object>"
            ],
            "text/html": [
              "<img src=\"https://www.improvemagic.com/wp-content/uploads/2020/11/l3.png\" style=\"display:inline-block; margin:5px;\" /><img src=\"https://www.improvemagic.com/wp-content/uploads/2020/11/s8.png\" style=\"display:inline-block; margin:5px;\" /><img src=\"https://www.improvemagic.com/wp-content/uploads/2020/11/p6.png\" style=\"display:inline-block; margin:5px;\" /><img src=\"https://www.improvemagic.com/wp-content/uploads/2020/11/k4.png\" style=\"display:inline-block; margin:5px;\" /><img src=\"https://www.improvemagic.com/wp-content/uploads/2020/11/k8.png\" style=\"display:inline-block; margin:5px;\" />"
            ]
          },
          "metadata": {}
        },
        {
          "output_type": "stream",
          "name": "stdout",
          "text": [
            "One Pair\n"
          ]
        },
        {
          "output_type": "display_data",
          "data": {
            "text/plain": [
              "<IPython.core.display.HTML object>"
            ],
            "text/html": [
              "<img src=\"https://www.improvemagic.com/wp-content/uploads/2020/11/p3.png\" style=\"display:inline-block; margin:5px;\" /><img src=\"https://www.improvemagic.com/wp-content/uploads/2020/11/p9.png\" style=\"display:inline-block; margin:5px;\" /><img src=\"https://www.improvemagic.com/wp-content/uploads/2020/11/s3.png\" style=\"display:inline-block; margin:5px;\" /><img src=\"https://www.improvemagic.com/wp-content/uploads/2020/11/l5.png\" style=\"display:inline-block; margin:5px;\" /><img src=\"https://www.improvemagic.com/wp-content/uploads/2020/11/lk.png\" style=\"display:inline-block; margin:5px;\" />"
            ]
          },
          "metadata": {}
        },
        {
          "output_type": "stream",
          "name": "stdout",
          "text": [
            "High Card\n"
          ]
        },
        {
          "output_type": "display_data",
          "data": {
            "text/plain": [
              "<IPython.core.display.HTML object>"
            ],
            "text/html": [
              "<img src=\"https://www.improvemagic.com/wp-content/uploads/2020/11/l2.png\" style=\"display:inline-block; margin:5px;\" /><img src=\"https://www.improvemagic.com/wp-content/uploads/2020/11/s9.png\" style=\"display:inline-block; margin:5px;\" /><img src=\"https://www.improvemagic.com/wp-content/uploads/2020/11/pa.png\" style=\"display:inline-block; margin:5px;\" /><img src=\"https://www.improvemagic.com/wp-content/uploads/2020/11/l8.png\" style=\"display:inline-block; margin:5px;\" /><img src=\"https://www.improvemagic.com/wp-content/uploads/2020/11/s4.png\" style=\"display:inline-block; margin:5px;\" />"
            ]
          },
          "metadata": {}
        },
        {
          "output_type": "stream",
          "name": "stdout",
          "text": [
            "One Pair\n"
          ]
        },
        {
          "output_type": "display_data",
          "data": {
            "text/plain": [
              "<IPython.core.display.HTML object>"
            ],
            "text/html": [
              "<img src=\"https://www.improvemagic.com/wp-content/uploads/2020/11/kj.png\" style=\"display:inline-block; margin:5px;\" /><img src=\"https://www.improvemagic.com/wp-content/uploads/2020/11/s8.png\" style=\"display:inline-block; margin:5px;\" /><img src=\"https://www.improvemagic.com/wp-content/uploads/2020/11/kk.png\" style=\"display:inline-block; margin:5px;\" /><img src=\"https://www.improvemagic.com/wp-content/uploads/2020/11/p6.png\" style=\"display:inline-block; margin:5px;\" /><img src=\"https://www.improvemagic.com/wp-content/uploads/2020/11/k6.png\" style=\"display:inline-block; margin:5px;\" />"
            ]
          },
          "metadata": {}
        },
        {
          "output_type": "stream",
          "name": "stdout",
          "text": [
            "One Pair\n"
          ]
        },
        {
          "output_type": "display_data",
          "data": {
            "text/plain": [
              "<IPython.core.display.HTML object>"
            ],
            "text/html": [
              "<img src=\"https://www.improvemagic.com/wp-content/uploads/2020/11/ka.png\" style=\"display:inline-block; margin:5px;\" /><img src=\"https://www.improvemagic.com/wp-content/uploads/2020/11/s9.png\" style=\"display:inline-block; margin:5px;\" /><img src=\"https://www.improvemagic.com/wp-content/uploads/2020/11/sk.png\" style=\"display:inline-block; margin:5px;\" /><img src=\"https://www.improvemagic.com/wp-content/uploads/2020/11/la.png\" style=\"display:inline-block; margin:5px;\" /><img src=\"https://www.improvemagic.com/wp-content/uploads/2020/11/l5.png\" style=\"display:inline-block; margin:5px;\" />"
            ]
          },
          "metadata": {}
        },
        {
          "output_type": "stream",
          "name": "stdout",
          "text": [
            "One Pair\n"
          ]
        },
        {
          "output_type": "display_data",
          "data": {
            "text/plain": [
              "<IPython.core.display.HTML object>"
            ],
            "text/html": [
              "<img src=\"https://www.improvemagic.com/wp-content/uploads/2020/11/k5.png\" style=\"display:inline-block; margin:5px;\" /><img src=\"https://www.improvemagic.com/wp-content/uploads/2020/11/p6.png\" style=\"display:inline-block; margin:5px;\" /><img src=\"https://www.improvemagic.com/wp-content/uploads/2020/11/l9.png\" style=\"display:inline-block; margin:5px;\" /><img src=\"https://www.improvemagic.com/wp-content/uploads/2020/11/s4.png\" style=\"display:inline-block; margin:5px;\" /><img src=\"https://www.improvemagic.com/wp-content/uploads/2020/11/s9.png\" style=\"display:inline-block; margin:5px;\" />"
            ]
          },
          "metadata": {}
        },
        {
          "output_type": "stream",
          "name": "stdout",
          "text": [
            "High Card\n"
          ]
        },
        {
          "output_type": "display_data",
          "data": {
            "text/plain": [
              "<IPython.core.display.HTML object>"
            ],
            "text/html": [
              "<img src=\"https://www.improvemagic.com/wp-content/uploads/2020/11/k3.png\" style=\"display:inline-block; margin:5px;\" /><img src=\"https://www.improvemagic.com/wp-content/uploads/2020/11/pq.png\" style=\"display:inline-block; margin:5px;\" /><img src=\"https://www.improvemagic.com/wp-content/uploads/2020/11/l2.png\" style=\"display:inline-block; margin:5px;\" /><img src=\"https://www.improvemagic.com/wp-content/uploads/2020/11/p10.png\" style=\"display:inline-block; margin:5px;\" /><img src=\"https://www.improvemagic.com/wp-content/uploads/2020/11/sk.png\" style=\"display:inline-block; margin:5px;\" />"
            ]
          },
          "metadata": {}
        },
        {
          "output_type": "stream",
          "name": "stdout",
          "text": [
            "One Pair\n"
          ]
        },
        {
          "output_type": "display_data",
          "data": {
            "text/plain": [
              "<IPython.core.display.HTML object>"
            ],
            "text/html": [
              "<img src=\"https://www.improvemagic.com/wp-content/uploads/2020/11/p10.png\" style=\"display:inline-block; margin:5px;\" /><img src=\"https://www.improvemagic.com/wp-content/uploads/2020/11/pk.png\" style=\"display:inline-block; margin:5px;\" /><img src=\"https://www.improvemagic.com/wp-content/uploads/2020/11/pq.png\" style=\"display:inline-block; margin:5px;\" /><img src=\"https://www.improvemagic.com/wp-content/uploads/2020/11/s8.png\" style=\"display:inline-block; margin:5px;\" /><img src=\"https://www.improvemagic.com/wp-content/uploads/2020/11/kq.png\" style=\"display:inline-block; margin:5px;\" />"
            ]
          },
          "metadata": {}
        },
        {
          "output_type": "stream",
          "name": "stdout",
          "text": [
            "One Pair\n"
          ]
        },
        {
          "output_type": "display_data",
          "data": {
            "text/plain": [
              "<IPython.core.display.HTML object>"
            ],
            "text/html": [
              "<img src=\"https://www.improvemagic.com/wp-content/uploads/2020/11/l3.png\" style=\"display:inline-block; margin:5px;\" /><img src=\"https://www.improvemagic.com/wp-content/uploads/2020/11/kq.png\" style=\"display:inline-block; margin:5px;\" /><img src=\"https://www.improvemagic.com/wp-content/uploads/2020/11/pq.png\" style=\"display:inline-block; margin:5px;\" /><img src=\"https://www.improvemagic.com/wp-content/uploads/2020/11/p7.png\" style=\"display:inline-block; margin:5px;\" /><img src=\"https://www.improvemagic.com/wp-content/uploads/2020/11/k8.png\" style=\"display:inline-block; margin:5px;\" />"
            ]
          },
          "metadata": {}
        }
      ]
    },
    {
      "cell_type": "code",
      "source": [],
      "metadata": {
        "id": "vJSv5gqMYwpD"
      },
      "execution_count": null,
      "outputs": []
    },
    {
      "cell_type": "code",
      "source": [
        "for i in range(100): #generates 100 hands, only show hands with two pairs\n",
        "    # Initialize and shuffle the deck\n",
        "    deck = initialize_deck()\n",
        "    top_index = 0  # Start at the beginning of the deck\n",
        "\n",
        "    hand, top_index = draw_cards(deck, top_index, 5)\n",
        "\n",
        "    if evaluate_hand(hand) == \"Two Pair\":\n",
        "        print(\"Winner!\")\n",
        "        show_hand(hand)"
      ],
      "metadata": {
        "id": "4fjPFjdOYySY",
        "colab": {
          "base_uri": "https://localhost:8080/",
          "height": 1000
        },
        "outputId": "84ae02af-059a-4c73-d114-5ffd4b5649ed"
      },
      "execution_count": null,
      "outputs": [
        {
          "output_type": "stream",
          "name": "stdout",
          "text": [
            "Winner!\n"
          ]
        },
        {
          "output_type": "display_data",
          "data": {
            "text/plain": [
              "<IPython.core.display.HTML object>"
            ],
            "text/html": [
              "<img src=\"https://www.improvemagic.com/wp-content/uploads/2020/11/p2.png\" style=\"display:inline-block; margin:5px;\" /><img src=\"https://www.improvemagic.com/wp-content/uploads/2020/11/l6.png\" style=\"display:inline-block; margin:5px;\" /><img src=\"https://www.improvemagic.com/wp-content/uploads/2020/11/k2.png\" style=\"display:inline-block; margin:5px;\" /><img src=\"https://www.improvemagic.com/wp-content/uploads/2020/11/s6.png\" style=\"display:inline-block; margin:5px;\" /><img src=\"https://www.improvemagic.com/wp-content/uploads/2020/11/lq.png\" style=\"display:inline-block; margin:5px;\" />"
            ]
          },
          "metadata": {}
        },
        {
          "output_type": "stream",
          "name": "stdout",
          "text": [
            "Winner!\n"
          ]
        },
        {
          "output_type": "display_data",
          "data": {
            "text/plain": [
              "<IPython.core.display.HTML object>"
            ],
            "text/html": [
              "<img src=\"https://www.improvemagic.com/wp-content/uploads/2020/11/k4.png\" style=\"display:inline-block; margin:5px;\" /><img src=\"https://www.improvemagic.com/wp-content/uploads/2020/11/s7.png\" style=\"display:inline-block; margin:5px;\" /><img src=\"https://www.improvemagic.com/wp-content/uploads/2020/11/s4.png\" style=\"display:inline-block; margin:5px;\" /><img src=\"https://www.improvemagic.com/wp-content/uploads/2020/11/k6.png\" style=\"display:inline-block; margin:5px;\" /><img src=\"https://www.improvemagic.com/wp-content/uploads/2020/11/l6.png\" style=\"display:inline-block; margin:5px;\" />"
            ]
          },
          "metadata": {}
        },
        {
          "output_type": "stream",
          "name": "stdout",
          "text": [
            "Winner!\n"
          ]
        },
        {
          "output_type": "display_data",
          "data": {
            "text/plain": [
              "<IPython.core.display.HTML object>"
            ],
            "text/html": [
              "<img src=\"https://www.improvemagic.com/wp-content/uploads/2020/11/p7.png\" style=\"display:inline-block; margin:5px;\" /><img src=\"https://www.improvemagic.com/wp-content/uploads/2020/11/ka.png\" style=\"display:inline-block; margin:5px;\" /><img src=\"https://www.improvemagic.com/wp-content/uploads/2020/11/p4.png\" style=\"display:inline-block; margin:5px;\" /><img src=\"https://www.improvemagic.com/wp-content/uploads/2020/11/sa.png\" style=\"display:inline-block; margin:5px;\" /><img src=\"https://www.improvemagic.com/wp-content/uploads/2020/11/s7.png\" style=\"display:inline-block; margin:5px;\" />"
            ]
          },
          "metadata": {}
        }
      ]
    },
    {
      "cell_type": "code",
      "source": [],
      "metadata": {
        "id": "aZ-ii6TCbps5"
      },
      "execution_count": null,
      "outputs": []
    },
    {
      "cell_type": "code",
      "source": [
        "for i in range(1000): #runs 1000 hands, checks for any flushes\n",
        "    # Initialize and shuffle the deck\n",
        "    deck = initialize_deck()\n",
        "    top_index = 0  # Start at the beginning of the deck\n",
        "\n",
        "    hand, top_index = draw_cards(deck, top_index, 5)\n",
        "\n",
        "    if evaluate_hand(hand) == \"Flush\":\n",
        "        print(\"Winner!\")\n",
        "        show_hand(hand)"
      ],
      "metadata": {
        "id": "ELMqN8vmbp5h",
        "colab": {
          "base_uri": "https://localhost:8080/",
          "height": 706
        },
        "outputId": "fda2a723-dab3-4785-a61b-f7f7e14082cd"
      },
      "execution_count": null,
      "outputs": [
        {
          "output_type": "stream",
          "name": "stdout",
          "text": [
            "Winner!\n"
          ]
        },
        {
          "output_type": "display_data",
          "data": {
            "text/plain": [
              "<IPython.core.display.HTML object>"
            ],
            "text/html": [
              "<img src=\"https://www.improvemagic.com/wp-content/uploads/2020/11/l5.png\" style=\"display:inline-block; margin:5px;\" /><img src=\"https://www.improvemagic.com/wp-content/uploads/2020/11/l7.png\" style=\"display:inline-block; margin:5px;\" /><img src=\"https://www.improvemagic.com/wp-content/uploads/2020/11/lk.png\" style=\"display:inline-block; margin:5px;\" /><img src=\"https://www.improvemagic.com/wp-content/uploads/2020/11/l4.png\" style=\"display:inline-block; margin:5px;\" /><img src=\"https://www.improvemagic.com/wp-content/uploads/2020/11/l8.png\" style=\"display:inline-block; margin:5px;\" />"
            ]
          },
          "metadata": {}
        },
        {
          "output_type": "stream",
          "name": "stdout",
          "text": [
            "Winner!\n"
          ]
        },
        {
          "output_type": "display_data",
          "data": {
            "text/plain": [
              "<IPython.core.display.HTML object>"
            ],
            "text/html": [
              "<img src=\"https://www.improvemagic.com/wp-content/uploads/2020/11/pj.png\" style=\"display:inline-block; margin:5px;\" /><img src=\"https://www.improvemagic.com/wp-content/uploads/2020/11/p5.png\" style=\"display:inline-block; margin:5px;\" /><img src=\"https://www.improvemagic.com/wp-content/uploads/2020/11/p6.png\" style=\"display:inline-block; margin:5px;\" /><img src=\"https://www.improvemagic.com/wp-content/uploads/2020/11/p9.png\" style=\"display:inline-block; margin:5px;\" /><img src=\"https://www.improvemagic.com/wp-content/uploads/2020/11/pk.png\" style=\"display:inline-block; margin:5px;\" />"
            ]
          },
          "metadata": {}
        }
      ]
    },
    {
      "cell_type": "code",
      "source": [
        "%%timeit #times how long it takes to recieve the desired result\n",
        "# Initialize and shuffle the deck\n",
        "deck = initialize_deck()\n",
        "top_index = 0  # Start at the beginning of the deck\n",
        "\n",
        "hand, top_index = draw_cards(deck, top_index, 5)\n",
        "\n",
        "if evaluate_hand(hand) == \"Royal Flush\":\n",
        "    print(\"Winner!\")\n",
        "    show_hand(hand)"
      ],
      "metadata": {
        "id": "Hiwjc2wDcA-W",
        "colab": {
          "base_uri": "https://localhost:8080/",
          "height": 378
        },
        "outputId": "a20a5a70-cf78-4747-a431-5e01dc60f110"
      },
      "execution_count": null,
      "outputs": [
        {
          "output_type": "stream",
          "name": "stdout",
          "text": [
            "Winner!\n"
          ]
        },
        {
          "output_type": "display_data",
          "data": {
            "text/plain": [
              "<IPython.core.display.HTML object>"
            ],
            "text/html": [
              "<img src=\"https://www.improvemagic.com/wp-content/uploads/2020/11/s10.png\" style=\"display:inline-block; margin:5px;\" /><img src=\"https://www.improvemagic.com/wp-content/uploads/2020/11/sa.png\" style=\"display:inline-block; margin:5px;\" /><img src=\"https://www.improvemagic.com/wp-content/uploads/2020/11/sk.png\" style=\"display:inline-block; margin:5px;\" /><img src=\"https://www.improvemagic.com/wp-content/uploads/2020/11/sj.png\" style=\"display:inline-block; margin:5px;\" /><img src=\"https://www.improvemagic.com/wp-content/uploads/2020/11/sq.png\" style=\"display:inline-block; margin:5px;\" />"
            ]
          },
          "metadata": {}
        },
        {
          "output_type": "stream",
          "name": "stdout",
          "text": [
            "20.9 µs ± 534 ns per loop (mean ± std. dev. of 7 runs, 10000 loops each)\n"
          ]
        }
      ]
    },
    {
      "cell_type": "code",
      "source": [
        "for i in range(1000000): #completes 1000000 hands, displays all royal flushes\n",
        "    # Initialize and shuffle the deck\n",
        "    deck = initialize_deck()\n",
        "    top_index = 0  # Start at the beginning of the deck\n",
        "\n",
        "    hand, top_index = draw_cards(deck, top_index, 5)\n",
        "\n",
        "    if evaluate_hand(hand) == \"Royal Flush\":\n",
        "        print(\"Winner!\")\n",
        "        show_hand(hand)\n"
      ],
      "metadata": {
        "id": "MfZ17tITbb2N"
      },
      "execution_count": null,
      "outputs": []
    },
    {
      "cell_type": "code",
      "source": [],
      "metadata": {
        "id": "br1RRi_poHej"
      },
      "execution_count": null,
      "outputs": []
    },
    {
      "cell_type": "code",
      "source": [
        "wins = 0\n",
        "N = 1000000\n",
        "#keeps an incremental counter of all the royal flushes\n",
        "for i in range(N):\n",
        "    # Initialize and shuffle the deck\n",
        "    deck = initialize_deck()\n",
        "    top_index = 0  # Start at the beginning of the deck\n",
        "\n",
        "    hand, top_index = draw_cards(deck, top_index, 5)\n",
        "\n",
        "    if evaluate_hand(hand) == \"Royal Flush\":\n",
        "        wins += 1\n",
        "        print(\"Winner!\")\n",
        "        show_hand(hand)"
      ],
      "metadata": {
        "colab": {
          "base_uri": "https://localhost:8080/",
          "height": 706
        },
        "id": "rU4xfCSPoHjR",
        "outputId": "fceb0fa3-f05c-406a-f479-ddb140929352"
      },
      "execution_count": null,
      "outputs": [
        {
          "output_type": "stream",
          "name": "stdout",
          "text": [
            "Winner!\n"
          ]
        },
        {
          "output_type": "display_data",
          "data": {
            "text/plain": [
              "<IPython.core.display.HTML object>"
            ],
            "text/html": [
              "<img src=\"https://www.improvemagic.com/wp-content/uploads/2020/11/lj.png\" style=\"display:inline-block; margin:5px;\" /><img src=\"https://www.improvemagic.com/wp-content/uploads/2020/11/lk.png\" style=\"display:inline-block; margin:5px;\" /><img src=\"https://www.improvemagic.com/wp-content/uploads/2020/11/lq.png\" style=\"display:inline-block; margin:5px;\" /><img src=\"https://www.improvemagic.com/wp-content/uploads/2020/11/la.png\" style=\"display:inline-block; margin:5px;\" /><img src=\"https://www.improvemagic.com/wp-content/uploads/2020/11/l10.png\" style=\"display:inline-block; margin:5px;\" />"
            ]
          },
          "metadata": {}
        },
        {
          "output_type": "stream",
          "name": "stdout",
          "text": [
            "Winner!\n"
          ]
        },
        {
          "output_type": "display_data",
          "data": {
            "text/plain": [
              "<IPython.core.display.HTML object>"
            ],
            "text/html": [
              "<img src=\"https://www.improvemagic.com/wp-content/uploads/2020/11/pq.png\" style=\"display:inline-block; margin:5px;\" /><img src=\"https://www.improvemagic.com/wp-content/uploads/2020/11/pa.png\" style=\"display:inline-block; margin:5px;\" /><img src=\"https://www.improvemagic.com/wp-content/uploads/2020/11/p10.png\" style=\"display:inline-block; margin:5px;\" /><img src=\"https://www.improvemagic.com/wp-content/uploads/2020/11/pk.png\" style=\"display:inline-block; margin:5px;\" /><img src=\"https://www.improvemagic.com/wp-content/uploads/2020/11/pj.png\" style=\"display:inline-block; margin:5px;\" />"
            ]
          },
          "metadata": {}
        }
      ]
    },
    {
      "cell_type": "code",
      "source": [
        "wins/N"
      ],
      "metadata": {
        "id": "Q7WDJidEw7yT",
        "outputId": "5a5fc4e5-2c74-4595-a7a9-037beb14b37a",
        "colab": {
          "base_uri": "https://localhost:8080/"
        }
      },
      "execution_count": null,
      "outputs": [
        {
          "output_type": "execute_result",
          "data": {
            "text/plain": [
              "2e-06"
            ]
          },
          "metadata": {},
          "execution_count": 379
        }
      ]
    },
    {
      "cell_type": "code",
      "source": [],
      "metadata": {
        "id": "Erx7P3YYb9jx"
      },
      "execution_count": null,
      "outputs": []
    }
  ]
}